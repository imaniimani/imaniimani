{
  "nbformat": 4,
  "nbformat_minor": 0,
  "metadata": {
    "colab": {
      "name": "Untitled11.ipynb",
      "provenance": [],
      "collapsed_sections": [],
      "authorship_tag": "ABX9TyOo6vYe+QrL82nNMG7BNDxO",
      "include_colab_link": true
    },
    "kernelspec": {
      "name": "python3",
      "display_name": "Python 3"
    },
    "language_info": {
      "name": "python"
    }
  },
  "cells": [
    {
      "cell_type": "markdown",
      "metadata": {
        "id": "view-in-github",
        "colab_type": "text"
      },
      "source": [
        "<a href=\"https://colab.research.google.com/github/imaniimani/imaniimani/blob/main/twilio.ipynb\" target=\"_parent\"><img src=\"https://colab.research.google.com/assets/colab-badge.svg\" alt=\"Open In Colab\"/></a>"
      ]
    },
    {
      "cell_type": "code",
      "metadata": {
        "id": "SZUKfiRkor_T",
        "colab": {
          "base_uri": "https://localhost:8080/"
        },
        "outputId": "a97290c1-4e82-4c3e-ecce-eb169d50862f"
      },
      "source": [
        "from twilio.rest import Client\n",
        "#!pip install twilio\n",
        "\n",
        "\n",
        "#  Account Sid and Auth Token from twilio.com/console\n",
        "account_sid = \"AC61df5619fe11fe48b2c982d2d91dbbf0\"\n",
        "auth_token = \"f3cd906a1dadfe3a4b5830a9681b1499\"\n",
        "client = Client(account_sid, auth_token)\n",
        "\n",
        "\n",
        "message = client.messages.create(\n",
        " body=\"Hey there, \",\n",
        " from_=\"[+][1][213238-5051]\",\n",
        " to=\"[+][254][07*******]\"\n",
        " )\n",
        "print(message.sid, \"Sucessfully delivered!!\")"
      ],
      "execution_count": 8,
      "outputs": [
        {
          "output_type": "stream",
          "text": [
            "SMfe6c5ce661e5455a993bbace319476c9\n"
          ],
          "name": "stdout"
        }
      ]
    },
    {
      "cell_type": "code",
      "metadata": {
        "id": "CTg4qDkfSMq8"
      },
      "source": [
        ""
      ],
      "execution_count": 13,
      "outputs": []
    }
  ]
}